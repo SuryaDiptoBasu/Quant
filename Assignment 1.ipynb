{
 "cells": [
  {
   "cell_type": "code",
   "execution_count": 1,
   "id": "c3246041",
   "metadata": {},
   "outputs": [],
   "source": [
    "import numpy as np"
   ]
  },
  {
   "cell_type": "code",
   "execution_count": 2,
   "id": "442343bb",
   "metadata": {},
   "outputs": [],
   "source": [
    "num=list(np.random.randint(0,10000,1000))"
   ]
  },
  {
   "cell_type": "code",
   "execution_count": 3,
   "id": "ead477b4",
   "metadata": {},
   "outputs": [],
   "source": [
    "new=[]\n",
    "for item in num:\n",
    "    new.append(item/10000)"
   ]
  },
  {
   "cell_type": "code",
   "execution_count": 4,
   "id": "db20dd0b",
   "metadata": {},
   "outputs": [
    {
     "data": {
      "text/plain": [
       "list"
      ]
     },
     "execution_count": 4,
     "metadata": {},
     "output_type": "execute_result"
    }
   ],
   "source": [
    "type(new)"
   ]
  },
  {
   "cell_type": "code",
   "execution_count": 5,
   "id": "4a9ef215",
   "metadata": {},
   "outputs": [],
   "source": [
    "new2=[]\n",
    "for item in new:\n",
    "    if(item<=0.33):\n",
    "        new2.append(10)\n",
    "    elif(item>0.33 and item<=0.67):\n",
    "        new2.append(5)\n",
    "    else:\n",
    "        new2.append(1)"
   ]
  },
  {
   "cell_type": "code",
   "execution_count": 6,
   "id": "9cf8fbc7",
   "metadata": {},
   "outputs": [
    {
     "data": {
      "text/plain": [
       "5.353"
      ]
     },
     "execution_count": 6,
     "metadata": {},
     "output_type": "execute_result"
    }
   ],
   "source": [
    "np.mean(new2)"
   ]
  },
  {
   "cell_type": "code",
   "execution_count": 7,
   "id": "3026be6f",
   "metadata": {
    "scrolled": true
   },
   "outputs": [
    {
     "name": "stdout",
     "output_type": "stream",
     "text": [
      "Enter the no. of data: 1000\n",
      "4.538\n"
     ]
    }
   ],
   "source": [
    "import numpy as np\n",
    "n=(int)(input(\"Enter the no. of data: \"))\n",
    "num=list(np.random.randint(0,10000,n))\n",
    "new=[]\n",
    "for item in num:\n",
    "    new.append(item/10000)\n",
    "new2=[]\n",
    "for item in new:\n",
    "    if(item<=0.2):\n",
    "        new2.append(10)\n",
    "    elif(item>0.2 and item<=0.6):\n",
    "        new2.append(5)\n",
    "    else:\n",
    "        new2.append(1)\n",
    "print(np.mean(new2))"
   ]
  },
  {
   "cell_type": "markdown",
   "id": "af39aa16",
   "metadata": {},
   "source": [
    "# Using EQ(X) = EP(Q(i)/P(i).X)"
   ]
  },
  {
   "cell_type": "code",
   "execution_count": 8,
   "id": "8f461979",
   "metadata": {},
   "outputs": [
    {
     "name": "stdout",
     "output_type": "stream",
     "text": [
      "4.708\n"
     ]
    }
   ],
   "source": [
    "import numpy as np\n",
    "new3=[]\n",
    "for item in new:\n",
    "    if(item<=0.2):\n",
    "        new3.append(item*0.2/(1/3))\n",
    "    elif(item>0.2 and item<=0.6):\n",
    "        new3.append(item*0.4/(1/3))\n",
    "    else:\n",
    "        new3.append(item*0.4/(1/3))\n",
    "new4=[]\n",
    "for item in new3:\n",
    "    if(item<=0.33):\n",
    "        new4.append(10)\n",
    "    elif(item>0.33 and item<=0.67):\n",
    "        new4.append(5)\n",
    "    else:\n",
    "        new4.append(1)\n",
    "print(np.mean(new4))"
   ]
  },
  {
   "cell_type": "code",
   "execution_count": 9,
   "id": "8eb3c626",
   "metadata": {},
   "outputs": [
    {
     "name": "stdout",
     "output_type": "stream",
     "text": [
      "Enter N: 20\n",
      "Enter X: 20\n",
      "Enter t: 1\n",
      "Enter x: 1\n",
      "1.9073486328125e-06\n"
     ]
    }
   ],
   "source": [
    "N=(int)(input(\"Enter N: \"))\n",
    "X=(int)(input(\"Enter X: \"))\n",
    "t=(int)(input(\"Enter t: \"))\n",
    "x=(int)(input(\"Enter x: \"))\n",
    "def func(X,N):\n",
    "    if(N==t):\n",
    "        if(X==x):\n",
    "            return 1\n",
    "        else:\n",
    "            return 0\n",
    "    elif(N==X or N+X==0):\n",
    "        return 0.5*func(X-1,N-1)\n",
    "    else:\n",
    "        return 0.5*func(X+1,N-1)+0.5*func(X-1,N-1)\n",
    "prob=func(X,N)\n",
    "print (prob)"
   ]
  },
  {
   "cell_type": "code",
   "execution_count": 14,
   "id": "49fcfaa5",
   "metadata": {},
   "outputs": [
    {
     "name": "stdout",
     "output_type": "stream",
     "text": [
      "Enter the amt of the money you want to win: 100\n",
      "Enter the current amt you have right now (>0): 90\n",
      "[0.00097656]\n"
     ]
    }
   ],
   "source": [
    "import numpy as np\n",
    "n=(int)(input(\"Enter the amt of the money you want to win: \"))\n",
    "j=(int)(input(\"Enter the current amt you have right now (>0): \"))\n",
    "p=1/3\n",
    "q=2/3\n",
    "A=np.zeros((n-1,n-1))\n",
    "for i in range(0,n-1):\n",
    "    if(i<=n-3):\n",
    "        A[i][i+1]=-p\n",
    "    if(i>0):\n",
    "        A[i][i-1]=-q\n",
    "    A[i][i]=1\n",
    "b=np.zeros(n-1)\n",
    "b[n-2]=p\n",
    "x=np.linalg.solve(A,b.reshape(n-1,1))\n",
    "prob=x[j-1]\n",
    "print(prob)"
   ]
  }
 ],
 "metadata": {
  "kernelspec": {
   "display_name": "Python 3 (ipykernel)",
   "language": "python",
   "name": "python3"
  },
  "language_info": {
   "codemirror_mode": {
    "name": "ipython",
    "version": 3
   },
   "file_extension": ".py",
   "mimetype": "text/x-python",
   "name": "python",
   "nbconvert_exporter": "python",
   "pygments_lexer": "ipython3",
   "version": "3.11.5"
  }
 },
 "nbformat": 4,
 "nbformat_minor": 5
}
