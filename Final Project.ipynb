{
 "cells": [
  {
   "cell_type": "code",
   "execution_count": 2,
   "id": "689c680d",
   "metadata": {},
   "outputs": [],
   "source": [
    "import numpy as np"
   ]
  },
  {
   "cell_type": "markdown",
   "id": "05c04bfa",
   "metadata": {},
   "source": [
    "# Binomial Tree"
   ]
  },
  {
   "cell_type": "code",
   "execution_count": 9,
   "id": "9335b23f",
   "metadata": {},
   "outputs": [
    {
     "name": "stdout",
     "output_type": "stream",
     "text": [
      "0.08270074643810589\n"
     ]
    }
   ],
   "source": [
    "#Declaring the Parameters\n",
    "spot_price=4\n",
    "strike_price=4\n",
    "risk_free_rate=0.04\n",
    "T=5\n",
    "n=5\n",
    "u=np.exp(volatility*np.sqrt(T/n))\n",
    "d=1/u\n",
    "\n",
    "#Calculating R and q\n",
    "R=np.exp(risk_free_rate*T/n)\n",
    "q=(R-d)/(u-d)\n",
    "\n",
    "#Defining Max function\n",
    "def max(t):\n",
    "    if(t>0):\n",
    "        return t\n",
    "    else:\n",
    "        return 0\n",
    "\n",
    "def fact(t):\n",
    "    if(t==1 or t==0):\n",
    "        return 1\n",
    "    else:\n",
    "        return t*fact(t-1)\n",
    "\n",
    "#Calculating price of Derivative\n",
    "sum=0\n",
    "for i in range(0,T+1):\n",
    "    Pi=max(-u**(T-i)*d**(i)*spot_price+strike_price)\n",
    "    sum=sum+(((q**(T-i))*((1-q)**i)*Pi)*(fact(T)/fact(i)/fact(T-i)))\n",
    "P0=(1/R**n)*sum\n",
    "print(P0)"
   ]
  },
  {
   "cell_type": "markdown",
   "id": "13a99992",
   "metadata": {},
   "source": [
    "# Black-Scholes Model"
   ]
  },
  {
   "cell_type": "code",
   "execution_count": 3,
   "id": "fa30f67a",
   "metadata": {},
   "outputs": [],
   "source": [
    "from scipy.stats import norm"
   ]
  },
  {
   "cell_type": "code",
   "execution_count": 4,
   "id": "ccff74f2",
   "metadata": {},
   "outputs": [
    {
     "data": {
      "text/plain": [
       "0.08180018626505714"
      ]
     },
     "execution_count": 4,
     "metadata": {},
     "output_type": "execute_result"
    }
   ],
   "source": [
    "#Declaring Parameters\n",
    "spot_price=4\n",
    "strike_price=4\n",
    "T=5\n",
    "n=5\n",
    "risk_free_rate=0.04\n",
    "volatility=0.1\n",
    "\n",
    "#Calculating d1 and d2\n",
    "d1=(np.log(spot_price/strike_price)+(risk_free_rate+0.5*volatility**2)*T)/(volatility*np.sqrt(T))\n",
    "d2=d1-(volatility*np.sqrt(T))\n",
    "\n",
    "#Pricing the Derivative\n",
    "P=strike_price*np.exp(-risk_free_rate*T)*norm.cdf(-d2)-spot_price*norm.cdf(-d1)\n",
    "P"
   ]
  }
 ],
 "metadata": {
  "kernelspec": {
   "display_name": "Python 3 (ipykernel)",
   "language": "python",
   "name": "python3"
  },
  "language_info": {
   "codemirror_mode": {
    "name": "ipython",
    "version": 3
   },
   "file_extension": ".py",
   "mimetype": "text/x-python",
   "name": "python",
   "nbconvert_exporter": "python",
   "pygments_lexer": "ipython3",
   "version": "3.11.5"
  }
 },
 "nbformat": 4,
 "nbformat_minor": 5
}
